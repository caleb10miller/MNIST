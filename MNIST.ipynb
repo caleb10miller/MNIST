{
 "cells": [
  {
   "cell_type": "code",
   "execution_count": 19,
   "metadata": {},
   "outputs": [
    {
     "name": "stdout",
     "output_type": "stream",
     "text": [
      "Tensorflow Version: 2.15.0\n"
     ]
    }
   ],
   "source": [
    "import tensorflow as tf\n",
    "print(f\"Tensorflow Version: {tf.__version__}\")"
   ]
  },
  {
   "cell_type": "code",
   "execution_count": 20,
   "metadata": {},
   "outputs": [],
   "source": [
    "mnist = tf.keras.datasets.mnist\n",
    "\n",
    "(xtrain, ytrain), (xtest, ytest) = mnist.load_data()\n",
    "\n",
    "# Pixel values are 0 - 255\n",
    "# Divide by 255 to make this scaled 0 to 1\n",
    "xtrain, xtest = xtrain / 255.0, xtest / 255.0"
   ]
  },
  {
   "cell_type": "code",
   "execution_count": 21,
   "metadata": {},
   "outputs": [],
   "source": [
    "model = tf.keras.Sequential([\n",
    "    tf.keras.layers.Flatten(input_shape = (28, 28)),\n",
    "    tf.keras.layers.Dense(128, activation = 'relu'),\n",
    "    tf.keras.layers.Dropout(0.2),\n",
    "    tf.keras.layers.Dense(10) \n",
    "])"
   ]
  },
  {
   "cell_type": "code",
   "execution_count": 22,
   "metadata": {},
   "outputs": [
    {
     "data": {
      "text/plain": [
       "array([[-0.21394804, -0.02652837, -1.4654506 ,  1.3777212 , -0.8914868 ,\n",
       "         0.00311746, -0.6552822 ,  0.17834036, -0.07913668,  0.52436364]],\n",
       "      dtype=float32)"
      ]
     },
     "execution_count": 22,
     "metadata": {},
     "output_type": "execute_result"
    }
   ],
   "source": [
    "predictions = model(xtrain[:1]).numpy()\n",
    "predictions # model provides logits or log-odds scores"
   ]
  },
  {
   "cell_type": "code",
   "execution_count": 23,
   "metadata": {},
   "outputs": [
    {
     "data": {
      "text/plain": [
       "array([[0.06889566, 0.08309735, 0.0197093 , 0.33841142, 0.03498972,\n",
       "        0.08559772, 0.04431216, 0.10199069, 0.07883874, 0.14415726]],\n",
       "      dtype=float32)"
      ]
     },
     "execution_count": 23,
     "metadata": {},
     "output_type": "execute_result"
    }
   ],
   "source": [
    "tf.nn.softmax(predictions).numpy() # converts logits to probabilities "
   ]
  },
  {
   "cell_type": "code",
   "execution_count": 24,
   "metadata": {},
   "outputs": [],
   "source": [
    "loss_fn = tf.keras.losses.SparseCategoricalCrossentropy(from_logits=True) # define loss function for training"
   ]
  },
  {
   "cell_type": "code",
   "execution_count": 26,
   "metadata": {},
   "outputs": [
    {
     "data": {
      "text/plain": [
       "2.4580965"
      ]
     },
     "execution_count": 26,
     "metadata": {},
     "output_type": "execute_result"
    }
   ],
   "source": [
    "loss_fn(ytrain[:1], predictions).numpy() # untrained model"
   ]
  },
  {
   "cell_type": "code",
   "execution_count": 27,
   "metadata": {},
   "outputs": [],
   "source": [
    "model.compile(optimizer='adam', # configure and compile the model\n",
    "              loss=loss_fn,\n",
    "              metrics=['accuracy'])"
   ]
  },
  {
   "cell_type": "code",
   "execution_count": 28,
   "metadata": {},
   "outputs": [
    {
     "name": "stdout",
     "output_type": "stream",
     "text": [
      "Epoch 1/20\n",
      "1875/1875 [==============================] - 2s 837us/step - loss: 0.2906 - accuracy: 0.9159\n",
      "Epoch 2/20\n",
      "1875/1875 [==============================] - 1s 767us/step - loss: 0.1397 - accuracy: 0.9584\n",
      "Epoch 3/20\n",
      "1875/1875 [==============================] - 2s 802us/step - loss: 0.1037 - accuracy: 0.9679\n",
      "Epoch 4/20\n",
      "1875/1875 [==============================] - 1s 744us/step - loss: 0.0845 - accuracy: 0.9737\n",
      "Epoch 5/20\n",
      "1875/1875 [==============================] - 1s 743us/step - loss: 0.0734 - accuracy: 0.9766\n",
      "Epoch 6/20\n",
      "1875/1875 [==============================] - 1s 771us/step - loss: 0.0637 - accuracy: 0.9790\n",
      "Epoch 7/20\n",
      "1875/1875 [==============================] - 2s 1ms/step - loss: 0.0577 - accuracy: 0.9818\n",
      "Epoch 8/20\n",
      "1875/1875 [==============================] - 2s 844us/step - loss: 0.0512 - accuracy: 0.9830\n",
      "Epoch 9/20\n",
      "1875/1875 [==============================] - 2s 829us/step - loss: 0.0479 - accuracy: 0.9845\n",
      "Epoch 10/20\n",
      "1875/1875 [==============================] - 2s 888us/step - loss: 0.0439 - accuracy: 0.9851\n",
      "Epoch 11/20\n",
      "1875/1875 [==============================] - 2s 861us/step - loss: 0.0402 - accuracy: 0.9863\n",
      "Epoch 12/20\n",
      "1875/1875 [==============================] - 2s 883us/step - loss: 0.0378 - accuracy: 0.9871\n",
      "Epoch 13/20\n",
      "1875/1875 [==============================] - 2s 975us/step - loss: 0.0343 - accuracy: 0.9886\n",
      "Epoch 14/20\n",
      "1875/1875 [==============================] - 1s 785us/step - loss: 0.0341 - accuracy: 0.9886\n",
      "Epoch 15/20\n",
      "1875/1875 [==============================] - 1s 797us/step - loss: 0.0314 - accuracy: 0.9892\n",
      "Epoch 16/20\n",
      "1875/1875 [==============================] - 1s 783us/step - loss: 0.0301 - accuracy: 0.9899\n",
      "Epoch 17/20\n",
      "1875/1875 [==============================] - 1s 787us/step - loss: 0.0300 - accuracy: 0.9899\n",
      "Epoch 18/20\n",
      "1875/1875 [==============================] - 1s 770us/step - loss: 0.0294 - accuracy: 0.9896\n",
      "Epoch 19/20\n",
      "1875/1875 [==============================] - 1s 786us/step - loss: 0.0271 - accuracy: 0.9906\n",
      "Epoch 20/20\n",
      "1875/1875 [==============================] - 1s 790us/step - loss: 0.0251 - accuracy: 0.9914\n"
     ]
    },
    {
     "data": {
      "text/plain": [
       "<keras.src.callbacks.History at 0x29f4929d0>"
      ]
     },
     "execution_count": 28,
     "metadata": {},
     "output_type": "execute_result"
    }
   ],
   "source": [
    "model.fit(xtrain, ytrain, epochs=20) # train model"
   ]
  },
  {
   "cell_type": "code",
   "execution_count": 29,
   "metadata": {},
   "outputs": [
    {
     "name": "stdout",
     "output_type": "stream",
     "text": [
      "313/313 - 0s - loss: 0.0774 - accuracy: 0.9805 - 225ms/epoch - 718us/step\n"
     ]
    },
    {
     "data": {
      "text/plain": [
       "[0.07735303044319153, 0.9804999828338623]"
      ]
     },
     "execution_count": 29,
     "metadata": {},
     "output_type": "execute_result"
    }
   ],
   "source": [
    "model.evaluate(xtest, ytest, verbose=2) # about 98% accurate"
   ]
  },
  {
   "cell_type": "code",
   "execution_count": 30,
   "metadata": {},
   "outputs": [],
   "source": [
    "probability_model = tf.keras.Sequential([ # build a model that gives probabilities\n",
    "  model,\n",
    "  tf.keras.layers.Softmax()\n",
    "])"
   ]
  },
  {
   "cell_type": "code",
   "execution_count": 31,
   "metadata": {},
   "outputs": [
    {
     "data": {
      "text/plain": [
       "<tf.Tensor: shape=(5, 10), dtype=float32, numpy=\n",
       "array([[1.8278258e-09, 2.6886919e-12, 3.0339153e-10, 3.6664983e-07,\n",
       "        3.8138158e-15, 1.5176637e-09, 8.5108357e-18, 9.9999952e-01,\n",
       "        4.5607247e-09, 8.9661633e-08],\n",
       "       [2.6578819e-11, 7.7106918e-08, 9.9999988e-01, 2.0074047e-10,\n",
       "        4.6185583e-30, 5.3147018e-11, 4.6775349e-13, 1.7086667e-22,\n",
       "        1.6455496e-13, 2.8614797e-21],\n",
       "       [9.7972086e-13, 9.9999392e-01, 3.6187615e-07, 5.1877380e-10,\n",
       "        1.0366556e-06, 6.6902184e-10, 5.5911049e-09, 3.7171251e-06,\n",
       "        9.3328407e-07, 1.3576651e-12],\n",
       "       [9.9999976e-01, 3.3483259e-17, 3.2002270e-10, 1.5165092e-13,\n",
       "        7.3200536e-11, 1.6190970e-11, 1.8599563e-07, 1.2868044e-09,\n",
       "        2.9800203e-15, 7.9250553e-09],\n",
       "       [1.1131073e-10, 9.2853671e-18, 3.7533212e-08, 4.4628629e-15,\n",
       "        9.9983788e-01, 2.4360099e-12, 2.9886182e-10, 6.3461485e-09,\n",
       "        9.3845331e-12, 1.6213204e-04]], dtype=float32)>"
      ]
     },
     "execution_count": 31,
     "metadata": {},
     "output_type": "execute_result"
    }
   ],
   "source": [
    "probability_model(xtest[:5])"
   ]
  }
 ],
 "metadata": {
  "kernelspec": {
   "display_name": "Python 3",
   "language": "python",
   "name": "python3"
  },
  "language_info": {
   "codemirror_mode": {
    "name": "ipython",
    "version": 3
   },
   "file_extension": ".py",
   "mimetype": "text/x-python",
   "name": "python",
   "nbconvert_exporter": "python",
   "pygments_lexer": "ipython3",
   "version": "3.9.6"
  }
 },
 "nbformat": 4,
 "nbformat_minor": 2
}
